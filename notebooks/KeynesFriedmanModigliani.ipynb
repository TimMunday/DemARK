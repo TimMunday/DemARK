{
 "cells": [
  {
   "cell_type": "code",
   "execution_count": null,
   "metadata": {},
   "outputs": [],
   "source": [
    "from IPython.display import HTML\n",
    "\n",
    "HTML('''<script>\n",
    "code_show=true; \n",
    "function code_toggle() {\n",
    " if (code_show){\n",
    " $('div.input').hide();\n",
    " } else {\n",
    " $('div.input').show();\n",
    " }\n",
    " code_show = !code_show\n",
    "} \n",
    "$( document ).ready(code_toggle);\n",
    "</script>\n",
    "<form action=\"javascript:code_toggle()\"><input type=\"submit\" value=\"Click here to toggle on/off the raw code.\"></form>''')"
   ]
  },
  {
   "cell_type": "markdown",
   "metadata": {},
   "source": [
    "## Introduction: Keynes, Friedman, Modigliani"
   ]
  },
  {
   "cell_type": "code",
   "execution_count": null,
   "metadata": {},
   "outputs": [],
   "source": [
    "# Some initial setup\n",
    "\n",
    "import sys\n",
    "import os\n",
    "from matplotlib import pyplot as plt\n",
    "import numpy as np\n",
    "plt.style.use('seaborn-darkgrid')\n",
    "palette = plt.get_cmap('Dark2')\n",
    "import pandas as pd\n",
    "pd.core.common.is_list_like = pd.api.types.is_list_like\n",
    "import pandas_datareader.data as web\n",
    "import datetime as dt\n",
    "import scipy.stats as stats\n",
    "import statsmodels.formula.api as sm\n",
    "from copy  import deepcopy\n",
    "\n",
    "from HARK.ConsumptionSaving.ConsIndShockModel import *\n",
    "import HARK.ConsumptionSaving.ConsumerParameters as Params\n",
    "from HARK.utilities import plotFuncsDer, plotFuncs"
   ]
  },
  {
   "cell_type": "markdown",
   "metadata": {},
   "source": [
    "### 1. The Keynesian consumption function\n",
    "\n",
    "Keynes:\n",
    "1. \"The amount of aggregate consumption mainly depends on the amount of aggregate income.\" \n",
    "1. \"It is a \"fundamental psychological rule ... that when ... real income increases ... consumption [will increase], but by less than the increase in income.\" \n",
    "1. More generally, \"as a rule, a greater proportion of income ... is saved as real income increases.\"\n",
    "\n",
    "This can be formalized as:\n",
    "\n",
    "$\n",
    "\\begin{eqnarray}\n",
    "c_t & = &  a_0 + a_{1}y_t\n",
    "\\\\ c_t - c_{t-1} & = & a_{1}(y_t - y_{t-1})\n",
    "\\end{eqnarray}\n",
    "$\n",
    "\n",
    "for $a_0 > 0, a_1 < 1$\n"
   ]
  },
  {
   "cell_type": "markdown",
   "metadata": {},
   "source": [
    "#### The Keynesian Consumption Function"
   ]
  },
  {
   "cell_type": "code",
   "execution_count": null,
   "metadata": {
    "code_folding": []
   },
   "outputs": [],
   "source": [
    "# Plot cFunc(Y)=Y against the Keynesian consumption function\n",
    "# Deaton-Friedman consumption function is a special case of perfect foresight model\n",
    "PFexample = PerfForesightConsumerType(**Params.init_perfect_foresight) # set up a consumer type and use default parameteres  \n",
    "PFexample.cycles = 0 # Make this type have an infinite horizon\n",
    "\n",
    "PFexample.solve() # solve the consumer's problem\n",
    "PFexample.unpackcFunc() # unpack the consumption function\n",
    "\n",
    "# Plot the perfect foresight consumption function\n",
    "income_PF = np.linspace(-50, 50, 20) # pick some income points\n",
    "plt.figure(figsize=(9,6))\n",
    "plt.plot(income_PF, PFexample.solution[0].cFunc(income_PF), label = 'Consumption function') #plot income versus the consumption\n",
    "plt.plot(income_PF, income_PF, 'k--', label = 'C=Y')\n",
    "plt.title('Consumption function')\n",
    "plt.xlabel('Income (y)')\n",
    "plt.ylabel('Normalized Consumption (c)')\n",
    "plt.ylim(-20, 20)\n",
    "plt.legend()\n",
    "plt.show()"
   ]
  },
  {
   "cell_type": "code",
   "execution_count": null,
   "metadata": {
    "code_folding": [
     0
    ]
   },
   "outputs": [],
   "source": [
    "# This looks like the first of the three equations, consumption as a linear function of income!\n",
    "# This means that even in a microfounded model (that HARK provides), the consumption function can match Keynes reduced form\n",
    "# prediction (given the right parameterisation).\n",
    "\n",
    "# We can even find a_0 and a_1\n",
    "\n",
    "a_0 = PFexample.solution[0].cFunc(0)\n",
    "a_1 = PFexample.solution[0].cFunc(1) - PFexample.solution[0].cFunc(0) # We could also simulate the model in HARK and use MPCnow\n",
    "print('a_0 is ' + str(a_0))\n",
    "print('a_1 is ' +  str(a_1))"
   ]
  },
  {
   "cell_type": "markdown",
   "metadata": {},
   "source": [
    "#### The Keynesian consumption function: Evidence "
   ]
  },
  {
   "cell_type": "markdown",
   "metadata": {},
   "source": [
    "Aggregate Data:\n",
    "\n",
    "Long-term time-series estimates: $a_0$ close to zero, $a_1$ close to 1 (saving rate stable over time - Kuznets).<br>\n",
    "Short-term aggregate time-series estimates of change in consumption on change in income find $a_1 << 1$.<br>\n",
    "$c_t = a_0 + a_{1}y_t + a_{2}c_{t-1}$ finds significant $a_2$, near 1."
   ]
  },
  {
   "cell_type": "code",
   "execution_count": null,
   "metadata": {
    "code_folding": [
     0
    ]
   },
   "outputs": [],
   "source": [
    "# Lets have a look at some aggregate data\n",
    "\n",
    "sdt = dt.datetime(1980, 1, 1) #set startdate\n",
    "edt = dt.datetime (2017, 1, 1) #set end date\n",
    "df = web.DataReader([\"PCECC96\", \"DPIC96\"], \"fred\", sdt, edt) #import the data from Fred\n",
    "\n",
    "# Plot the data\n",
    "plt.figure(figsize=(9,6))\n",
    "plt.plot(df.DPIC96, df.PCECC96, 'go', markersize=3.0, label='Data')\n",
    "slope, intercept, r_value, p_value, std_err = stats.linregress(df.DPIC96, df.PCECC96)\n",
    "plt.plot(df.DPIC96, intercept+slope*df.DPIC96, 'k-', label = 'Line of best fit')\n",
    "plt.plot(df.DPIC96, df.DPIC96, 'k--', label = 'C=Y')\n",
    "plt.xlabel('Income (y)')\n",
    "plt.ylabel('Consumption (c)')\n",
    "plt.legend()\n",
    "plt.show()\n",
    "\n",
    "print('a_0 is ' + str(intercept))\n",
    "print('a_1 is ' +  str(slope))"
   ]
  },
  {
   "cell_type": "code",
   "execution_count": null,
   "metadata": {},
   "outputs": [],
   "source": [
    "# Looks pretty non-stationary though, lets use our second equation to try to find an estimate of a_1\n",
    "\n",
    "df_diff = df.diff() #create dataframe of differenced values\n",
    "\n",
    "# Plot the data\n",
    "plt.figure(figsize=(9,6))\n",
    "plt.plot(df_diff.DPIC96, df_diff.PCECC96, 'go', markersize=3.0, label = 'Data')\n",
    "slope, intercept, r_value, p_value, std_err = stats.linregress(df_diff.DPIC96[1:], df_diff.PCECC96[1:]) # find line of best fit\n",
    "plt.plot(df_diff.DPIC96[1:], intercept+slope*df_diff.DPIC96[1:], 'k-', label = 'Line of best fit')\n",
    "plt.plot(np.array([-200, 200]), np.array([-200, 200]), 'k--', label = 'C=Y')\n",
    "plt.xlabel('Change in income (dy)')\n",
    "plt.ylabel('Change in consumption (dc)')\n",
    "plt.legend()\n",
    "plt.show()\n",
    "\n",
    "print('a_1 is ' +  str(slope))"
   ]
  },
  {
   "cell_type": "markdown",
   "metadata": {},
   "source": [
    "a_1 is now much lower, as we expected"
   ]
  },
  {
   "cell_type": "markdown",
   "metadata": {},
   "source": [
    "### Household Data:\n",
    "\n",
    "Cross-section plots of consumption and income: very large and significant $a_0$, $a_1$ maybe 0.5. <br>\n",
    "\n",
    "Further facts:\n",
    "1. Black households save more than whites at a given income level.<br>\n",
    "0. By income group:\n",
    "   * low-income: Implausibly large dissaving (spend 2 or 3 times income)\n",
    "   * high-income: Remarkably high saving"
   ]
  },
  {
   "cell_type": "markdown",
   "metadata": {},
   "source": [
    "### 2. Duesenberry"
   ]
  },
  {
   "cell_type": "markdown",
   "metadata": {},
   "source": [
    "Habit formation may explain why $c_{t-1}$ affects $c_t$.<br>\n",
    "Relative Income Hypothesis suggests that you compare your consumption to consumption of ‘peers’.<br>\n",
    "May explain high saving rates of black HHs.<br>\n",
    "\n",
    "Problems with Duesenberry: <br>\n",
    "No budget constraint<br>\n",
    "No serious treatment of intertemporal nature of saving"
   ]
  },
  {
   "cell_type": "markdown",
   "metadata": {},
   "source": [
    "#### Dusenberry: Evidence"
   ]
  },
  {
   "cell_type": "code",
   "execution_count": null,
   "metadata": {},
   "outputs": [],
   "source": [
    "# Even if we control for income, past consumption seems to be significantly related to current consumption\n",
    "\n",
    "df_habit = df.copy()\n",
    "df_habit.columns = ['cons', 'inc']\n",
    "df_habit['cons_m1'] = df.PCECC96.shift()\n",
    "df_habit.dropna()\n",
    "\n",
    "result = sm.ols(formula = \"cons ~ inc + cons_m1\", data=df_habit.dropna()).fit()\n",
    "result.summary()"
   ]
  },
  {
   "cell_type": "code",
   "execution_count": null,
   "metadata": {},
   "outputs": [],
   "source": [
    "# This regression is clearly problematic for the usual non-stationary reasons.\n",
    "# Nevertheless we see that the coefficient on lagged consumption is very significant."
   ]
  },
  {
   "cell_type": "markdown",
   "metadata": {},
   "source": [
    "### 3. Friedman's Permanent Income Hypothesis"
   ]
  },
  {
   "cell_type": "markdown",
   "metadata": {},
   "source": [
    "$$c = p + u$$\n",
    "$$y = p + v$$\n",
    "\n",
    "We can try to test this theory across households. If we run a regression of the form:\n",
    "$$c_i = a_0 + a_{1}y_{i} + u_{i}$$\n",
    "\n",
    "And if Friedman is correct, and the \"true\" coefficient on permanent income $p$ is 1, then the coefficient on $y$ will be:\n",
    "$$a_1 = \\frac{s^2_{p}}{(s^2_{v} + s^2_{p})}$$"
   ]
  },
  {
   "cell_type": "markdown",
   "metadata": {},
   "source": [
    "#### Friedman's Permanent Income Hypothesis: HARK"
   ]
  },
  {
   "cell_type": "code",
   "execution_count": null,
   "metadata": {},
   "outputs": [],
   "source": [
    "# We can get the PIH result with a specific parameterisation of our consumer that we used earlier\n",
    "# for the Keynesian consumption function\n",
    "\n",
    "PFexample_PIH = deepcopy(PFexample) #copy our last agent\n",
    "\n",
    "# Change some parameters...\n",
    "PFexample_PIH.DiscFac = 1.\n",
    "PFexample_PIH.Rfree = 1.\n",
    "PFexample_PIH.LivPrb = [1.0]\n",
    "PFexample_PIH.PermGroFac = [1.0]\n",
    "\n",
    "PFexample_PIH.solve() # solve the consumer's problem\n",
    "PFexample_PIH.unpackcFunc() # unpack the consumption function\n",
    "\n",
    "# Plot the perfect foresight consumption function\n",
    "income_PF = np.linspace(-50, 50, 20) # pick some income points\n",
    "plt.figure(figsize=(9,6))\n",
    "plt.plot(income_PF, PFexample_PIH.solution[0].cFunc(income_PF), label = 'Consumption function') #plot income versus the consumption\n",
    "plt.plot(income_PF, income_PF, 'k--', label = 'C=Y')\n",
    "plt.title('Consumption function')\n",
    "plt.xlabel('Income (y)')\n",
    "plt.ylabel('Normalized Consumption (c)')\n",
    "plt.ylim(-20, 20)\n",
    "plt.legend()\n",
    "plt.show()"
   ]
  },
  {
   "cell_type": "code",
   "execution_count": null,
   "metadata": {},
   "outputs": [],
   "source": [
    "# We can see that regardless of the income our agent recieves, they consume their permanent income, normalised to 1"
   ]
  },
  {
   "cell_type": "markdown",
   "metadata": {},
   "source": [
    "We can also draw out some implications of the PIH that we can then test with evidence\n",
    "\n",
    "If we look at HH's who have very similar permanent incomes, we should get a small estimate of $a_1$, because $s^2_v$ is large relative to $s^2_p$.\n",
    "\n",
    "Lets simulate this using our HARK consumer."
   ]
  },
  {
   "cell_type": "code",
   "execution_count": null,
   "metadata": {},
   "outputs": [],
   "source": [
    "# Permanent income has low variance\n",
    "\n",
    "perm_inc = np.random.normal(1., 0.1, 50)\n",
    "trans_inc = np.random.normal(0.5, 0.1, 50)\n",
    "\n",
    "total_inc = perm_inc + trans_inc\n",
    "\n",
    "slope, intercept, r_value, p_value, std_err = stats.linregress(total_inc, PFexample_PIH.solution[0].cFunc(total_inc)*perm_inc)\n",
    "\n",
    "plt.figure(figsize=(9,6))\n",
    "plt.plot(total_inc, PFexample_PIH.solution[0].cFunc(total_inc)*perm_inc, 'go', label='Simulated data')\n",
    "plt.plot(total_inc, intercept + slope*total_inc, 'k-', label='Line of best fit')\n",
    "plt.plot(np.linspace(1, 2, 5), np.linspace(1, 2, 5), 'k--', label='C=Y')\n",
    "plt.xlabel('Income (y)')\n",
    "plt.ylabel('Consumption (c)')\n",
    "plt.legend()\n",
    "plt.ylim(0, 2)\n",
    "plt.xlim(1.1, 1.9)\n",
    "plt.show()\n",
    "\n",
    "print('a_0 is ' + str(intercept))\n",
    "print('a_1 is ' +  str(slope))"
   ]
  },
  {
   "cell_type": "code",
   "execution_count": null,
   "metadata": {},
   "outputs": [],
   "source": [
    "# Permanent income with higher variance\n",
    "\n",
    "perm_inc = np.random.normal(1., 0.5, 50)\n",
    "trans_inc = np.random.normal(0.5, 0.1, 50)\n",
    "\n",
    "total_inc = perm_inc + trans_inc\n",
    "\n",
    "slope, intercept, r_value, p_value, std_err = stats.linregress(total_inc, PFexample_PIH.solution[0].cFunc(total_inc)*perm_inc)\n",
    "\n",
    "plt.figure(figsize=(9,6))\n",
    "plt.plot(total_inc, PFexample_PIH.solution[0].cFunc(total_inc)*perm_inc, 'go', label='Simulated data')\n",
    "plt.plot(total_inc, intercept + slope*total_inc, 'k-', label='Line of best fit')\n",
    "plt.plot(np.linspace(0, 2, 5), np.linspace(0, 2, 5), 'k--', label='C=Y')\n",
    "plt.xlabel('Income (y)')\n",
    "plt.ylabel('Consumption (c)')\n",
    "plt.legend()\n",
    "plt.ylim(0, 2)\n",
    "plt.show()\n",
    "\n",
    "print('a_0 is ' + str(intercept))\n",
    "print('a_1 is ' +  str(slope))"
   ]
  },
  {
   "cell_type": "code",
   "execution_count": null,
   "metadata": {},
   "outputs": [],
   "source": [
    "# We can see that as we increase the variance of permanent income, the estimate of a_1 rises"
   ]
  },
  {
   "cell_type": "markdown",
   "metadata": {},
   "source": [
    "#### Friedman's Permanent Income Hypothesis: Evidence"
   ]
  },
  {
   "cell_type": "markdown",
   "metadata": {},
   "source": [
    "We can now consider the empirical evidence for the claims our HARK model made about the PIH.\n",
    "\n",
    "If we take a long time series, then the differences in permanent income should be the main driver of the variance in total income. This implies that a_1 should be high.\n",
    "\n",
    "If we take higher frequency time series (or cross sectional data), transitory shocks should dominate, and our estimate of a_1 should be lower."
   ]
  },
  {
   "cell_type": "code",
   "execution_count": null,
   "metadata": {},
   "outputs": [],
   "source": [
    "# Lets use the data from FRED that we used before.\n",
    "\n",
    "# Using quarterly data (copying from above), we had:\n",
    "\n",
    "plt.figure(figsize=(9,6))\n",
    "plt.plot(df_diff.DPIC96, df_diff.PCECC96, 'go', markersize=3.0, label = 'Data')\n",
    "slope, intercept, r_value, p_value, std_err = stats.linregress(df_diff.DPIC96[1:], df_diff.PCECC96[1:]) # find line of best fit\n",
    "plt.plot(df_diff.DPIC96[1:], intercept+slope*df_diff.DPIC96[1:], 'k-', label = 'Line of best fit')\n",
    "plt.plot(np.array([-200, 200]), np.array([-200, 200]), 'k--', label = 'C=Y')\n",
    "plt.xlabel('Change in income (dy)')\n",
    "plt.ylabel('Change in consumption (dc)')\n",
    "plt.legend()\n",
    "plt.show()\n",
    "\n",
    "print('a_1 is ' +  str(slope))"
   ]
  },
  {
   "cell_type": "code",
   "execution_count": null,
   "metadata": {},
   "outputs": [],
   "source": [
    "# Using annual data\n",
    "\n",
    "sdt = dt.datetime(1980, 1, 1) #set startdate\n",
    "edt = dt.datetime (2017, 1, 1) #set end date\n",
    "df_an = web.DataReader([\"PCECCA\", \"A067RX1A020NBEA\"], \"fred\", sdt, edt) #import the annual data from Fred\n",
    "\n",
    "df_an_diff = df_an.diff()\n",
    "df_an_diff.columns = ['cons', 'inc']\n",
    "\n",
    "plt.figure(figsize=(9,6))\n",
    "plt.plot(df_an_diff.inc, df_an_diff.cons, 'go', label='Data')\n",
    "slope, intercept, r_value, p_value, std_err = stats.linregress(df_an_diff.inc[1:], df_an_diff.cons[1:]) # find line of best fit\n",
    "plt.plot(df_an_diff.inc[1:], intercept+slope*df_an_diff.inc[1:], 'k-', label='Line of best fit')\n",
    "plt.plot(np.linspace(-100, 500, 3), np.linspace(-100, 500, 3), 'k--', label='C=Y')\n",
    "plt.legend()\n",
    "plt.xlabel('Change in income (dy)')\n",
    "plt.ylabel('Change in consumption (dc)')\n",
    "plt.show()\n",
    "\n",
    "print('a_0 is ' + str(intercept))\n",
    "print('a_1 is ' +  str(slope))"
   ]
  },
  {
   "cell_type": "code",
   "execution_count": null,
   "metadata": {},
   "outputs": [],
   "source": [
    "# The estimate of a_1 using the annual data is much higher because permanent income is playing a much more important role\n",
    "# in explaining the variation in consumption."
   ]
  }
 ],
 "metadata": {
  "kernelspec": {
   "display_name": "Python 3",
   "language": "python",
   "name": "python3"
  },
  "language_info": {
   "codemirror_mode": {
    "name": "ipython",
    "version": 3
   },
   "file_extension": ".py",
   "mimetype": "text/x-python",
   "name": "python",
   "nbconvert_exporter": "python",
   "pygments_lexer": "ipython3",
   "version": "3.6.4"
  }
 },
 "nbformat": 4,
 "nbformat_minor": 2
}
