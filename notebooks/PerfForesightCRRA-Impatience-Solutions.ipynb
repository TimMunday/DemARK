{
 "cells": [
  {
   "cell_type": "markdown",
   "metadata": {},
   "source": [
    "# Perfect Foresight Model Impatience Conditions"
   ]
  },
  {
   "cell_type": "code",
   "execution_count": null,
   "metadata": {
    "code_folding": [
     0
    ]
   },
   "outputs": [],
   "source": [
    "# Initial notebook set up\n",
    "\n",
    "%matplotlib inline\n",
    "import matplotlib.pyplot as plt\n",
    "\n",
    "# The first step is to be able to bring things in from different directories\n",
    "import sys \n",
    "import os\n",
    "\n",
    "sys.path.insert(0, os.path.abspath('../lib'))\n",
    "\n",
    "import numpy as np\n",
    "import HARK \n",
    "from time import clock\n",
    "from copy import deepcopy\n",
    "mystr = lambda number : \"{:.4f}\".format(number)\n",
    "from HARK.utilities import plotFuncs\n",
    "\n",
    "# These last two will make our charts look nice\n",
    "plt.style.use('seaborn-darkgrid')\n",
    "palette = plt.get_cmap('Dark2')"
   ]
  },
  {
   "cell_type": "markdown",
   "metadata": {},
   "source": [
    "After using the Jupyter notebook [Gentle-Intro-To-HARK-PerfForesightCRRA](https://github.com/econ-ark/DemARK/blob/Course-Choice/notebooks/Gentle-Intro-To-HARK-PerfForesightCRRA.ipynb) to learn the basics of HARK operations, and the code contained in this notebook, answer the following questions:"
   ]
  },
  {
   "cell_type": "markdown",
   "metadata": {},
   "source": [
    "\n",
    "\n",
    "[PerfectForesightCRRA](http://www.econ2.jhu.edu/people/ccarroll/public/lecturenotes/Consumption/PerfForesightCRRA) defines several 'impatience' conditions that are useful in understanding the model.\n",
    "\n",
    "If the 'absolute impatience condition' holds, \n",
    "\\begin{eqnarray}\n",
    "  (R \\beta)^{1/\\rho} & < & 1,\n",
    "\\end{eqnarray}\n",
    "consumption will be falling over time.\n",
    "\n",
    "The handout claims that in order for the perfect foresight consumption model to be useful, it is necessary to impose\n",
    "the 'return impatience condition':\n",
    "\n",
    "\\begin{eqnarray}\n",
    "  \\frac{(R \\beta)^{1/\\rho}}{R} & < & 1\n",
    "\\end{eqnarray}\n",
    "\n",
    "and the 'growth impatience condition':\n",
    "\n",
    "\\begin{eqnarray}\n",
    "  \\frac{(R \\beta)^{1/\\rho}}{G} & < & 1\n",
    "\\end{eqnarray}\n",
    "\n",
    "This question asks you to explore numerically what happens to the consumption function as these two conditions get very close to failing.\n",
    "\n",
    "Specifically, given the default set of parameter values used in the notebook below, you should:\n",
    "\n",
    "1. Plot the consumption function for a perfect foresight consumer with those parameter values, along with the \"sustainable\" level of consumption that would preserve wealth\n",
    "1. Calculate the numerical values of the three impatience conditions\n",
    "0. Calculate the values of $\\beta$ and $G$ such that the impatience factors on the LHS of the two equations would be exactly equal to 1\n",
    "\n",
    "Next, you should plot a sequence of consumption functions of a HARK `PerfForesightConsumerType` consumer:\n",
    "\n",
    "1. For some sequence of values of $\\beta$ that go from the default value to some value very close to the point where the 'return impatience condition' fails\n",
    "0. For some sequence of values of $G$ that go from the default value to some value very close to the point where the 'growth impatience condition' fails\n",
    "\n",
    "and in each case you should explain, using analytical mathematical reasoning, the numerical result you get."
   ]
  },
  {
   "cell_type": "code",
   "execution_count": null,
   "metadata": {},
   "outputs": [],
   "source": [
    "# Import the machinery for solving the perfect foresight model and the default parameters\n",
    "\n",
    "from HARK.ConsumptionSaving.ConsIndShockModel import PerfForesightConsumerType # Import the consumer type\n",
    "import HARK.ConsumptionSaving.ConsumerParameters as Params # Import default parameters\n",
    "\n",
    "# Now extract the default values of the parameters of interest\n",
    "\n",
    "CRRA       = Params.CRRA \n",
    "Rfree      = Params.Rfree \n",
    "DiscFac    = Params.DiscFac\n",
    "PermGroFac = Params.PermGroFac"
   ]
  },
  {
   "cell_type": "code",
   "execution_count": null,
   "metadata": {},
   "outputs": [],
   "source": [
    "# Now create a perfect foresight consumer example\n",
    "PFagent = PerfForesightConsumerType(**Params.init_perfect_foresight)\n",
    "\n",
    "# Solve the agent's problem\n",
    "PFagent.solve()"
   ]
  },
  {
   "cell_type": "code",
   "execution_count": null,
   "metadata": {
    "scrolled": true
   },
   "outputs": [],
   "source": [
    "# Plot the consumption function \n",
    "\n",
    "# Remember, after doing .solve(), the consumption function is stored as PFagent.solution[0].cFunc\n",
    "\n",
    "# Set out some range of market resources that we want to plot consumption for\n",
    "\n",
    "mMin = 0\n",
    "mMax = 5\n",
    "numPoints = 100\n",
    "m_range  = np.linspace(mMin, mMax, numPoints) # This creates an array of points in the given range\n",
    "\n",
    "# Feed our range of market resources into our consumption function in order to get consumption at each point\n",
    "\n",
    "cHARK = PFagent.solution[0].cFunc(m_range) # Because the input m_range is an array, the output cHARK is too\n",
    "\n",
    "# Construct the 45 degree line where value on vertical axis matches horizontal\n",
    "degree45 = m_range # This will be the array of y points identical to the x points\n",
    "\n",
    "# Find the value of consumption at the largest value of m\n",
    "c_max    = PFagent.solution[0].cFunc([mMax])\n",
    "\n",
    "# Use matplotlib package (imported in first cell) to plot the consumption function\n",
    "plt.figure(figsize=(9,6)) # set the figure size\n",
    "plt.ylim(0.,c_max[0])     # set the range for the vertical axis \n",
    "plt.plot(m_range, cHARK, 'b', label='Consumption Function from HARK') # Plot m's on the x axis, versus our c on the y axis, and make the line blue, with a label\n",
    "plt.xlabel('Market resources m') # x axis label\n",
    "plt.ylabel('Consumption c')      # y axis label\n",
    "\n",
    "# The plot is named plt and it hangs around like a variable \n",
    "# but is not displayed until you do a plt.show()\n",
    "\n",
    "\n",
    "plt.plot(m_range, degree45  , 'g', label='c = m') # Add sustainable c line\n",
    "plt.legend() # construct the legend\n",
    "\n",
    "plt.show() # show the plot"
   ]
  },
  {
   "cell_type": "code",
   "execution_count": null,
   "metadata": {
    "scrolled": true
   },
   "outputs": [],
   "source": [
    "# QUESTION: Now calculate and plot the \"sustainable\" level of consumption that leaves wealth untouched\n",
    "# and plot it against the perfect foresight solution\n",
    "\n",
    "cSustainable = 0. + 0.*(m_range-1) # For any given level of m, the level of c that would leave wealth unchanged\n",
    "# Obviously, 0 is the wrong formula here -- you should fill in the right one\n",
    "\n",
    "plt.figure(figsize=(9,6)) # set the figure size\n",
    "plt.xlabel('Market resources m') # x axis label\n",
    "plt.ylabel('Consumption c') # y axis label\n",
    "\n",
    "plt.plot(m_range, cSustainable  , 'k', label='Sustainable c') # Add sustainable c line\n",
    "plt.plot(m_range, cHARK, 'b', label='c Function')\n",
    "plt.legend()\n",
    "\n",
    "plt.show() # show the plot"
   ]
  },
  {
   "cell_type": "code",
   "execution_count": null,
   "metadata": {
    "scrolled": true
   },
   "outputs": [],
   "source": [
    "# Now calculate and plot the \"sustainable\" level of consumption that leaves wealth untouched\n",
    "# and plot it against the perfect foresight solution\n",
    "# SOLUTIONS\n",
    "\n",
    "cSustainable = 1 + ((Rfree_df-1)/Rfree)*(m_range-1) # For any given level of m, the level of c that would leave wealth unchanged\n",
    "\n",
    "plt.figure(figsize=(9,6)) # set the figure size\n",
    "plt.xlabel('Market resources m') # x axis label\n",
    "plt.ylabel('Consumption c') # y axis label\n",
    "\n",
    "plt.plot(m_range, cSustainable  , 'k', label='Sustainable c') # Add sustainable c line\n",
    "plt.plot(m_range, cHARK, 'b', label='c Function')\n",
    "plt.legend()\n",
    "\n",
    "plt.show() # show the plot"
   ]
  },
  {
   "cell_type": "code",
   "execution_count": null,
   "metadata": {},
   "outputs": [],
   "source": [
    "# Compute the values of the impatience conditions\n",
    "\n",
    "Pat_df  = 0. # Plug in the formula for the absolute patience factor\n",
    "PatR_df = 0. # Plug in the formula for the return patience factor\n",
    "PatG_df = 0. # Plug in the formula for the growth patience factor\n",
    "\n",
    "DiscFac_lim = 0. # The limiting value such that the RIC exactly fails\n",
    "PermGroFac_lim = 0. # The limiting value such that the GIC exactly fails"
   ]
  },
  {
   "cell_type": "code",
   "execution_count": null,
   "metadata": {},
   "outputs": [],
   "source": [
    "# Compute the values of the impatience conditions -- SOLUTIONS (Tim fill in)\n",
    "\n",
    "Pat_df  = 0. # Plug in the formula for the absolute patience factor\n",
    "PatR_df = 0. # Plug in the formula for the return patience factor\n",
    "PatG_df = 0. # Plug in the formula for the growth patience factor\n",
    "\n",
    "DiscFac_lim = 0. # The limiting value such that the RIC exactly fails\n",
    "PermGroFac_lim = 0. # The limiting value such that the GIC exactly fails"
   ]
  },
  {
   "cell_type": "code",
   "execution_count": null,
   "metadata": {},
   "outputs": [],
   "source": [
    "# Construct an array of values for beta (DiscFac) and G (PermGro) -- SOLUTIONS\n",
    "\n",
    "# The code below is an example to show you how to plot a set of consumption functions\n",
    "# for a sequence of values of the discount factor.  You should be able to figure out \n",
    "# how to adapt this code to solve the problem posed\n",
    "\n",
    "DiscFac_min = 0.\n",
    "DiscFac_max = DiscFac\n",
    "numPoints = 4\n",
    "DiscFac_list = np.linspace(DiscFac_min, DiscFac_max, numPoints)\n",
    "\n",
    "# TM: Please produce a plot of the consumption functions so they will get the idea\n",
    "# of how to do this\n",
    "\n",
    "# Now plot the consumption functions for values of G above the default value\n",
    "# Note the tricky fact that PermGro is a list of values because it could \n",
    "# be representing some arbitrary sequence of growth rates\n",
    "\n",
    "PermGro_min = PermGroFac_df[0]\n",
    "PermGro_max = 2*PermGroFac_df[0] # Arbitrary number larger than the default value\n",
    "PermGroList = np.linspace(mMin, mMax, numPoints)\n",
    "\n",
    "# TM: Please produce such a plot\n"
   ]
  },
  {
   "cell_type": "code",
   "execution_count": null,
   "metadata": {},
   "outputs": [],
   "source": [
    "# SOLUTIONS - Tim put here "
   ]
  }
 ],
 "metadata": {
  "kernelspec": {
   "display_name": "Python 3",
   "language": "python",
   "name": "python3"
  },
  "language_info": {
   "codemirror_mode": {
    "name": "ipython",
    "version": 3
   },
   "file_extension": ".py",
   "mimetype": "text/x-python",
   "name": "python",
   "nbconvert_exporter": "python",
   "pygments_lexer": "ipython3",
   "version": "3.6.4"
  }
 },
 "nbformat": 4,
 "nbformat_minor": 2
}
