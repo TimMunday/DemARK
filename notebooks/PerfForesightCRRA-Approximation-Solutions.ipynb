{
 "cells": [
  {
   "cell_type": "markdown",
   "metadata": {},
   "source": [
    "# Perfect Foresight CRRA Model - Approximation"
   ]
  },
  {
   "cell_type": "code",
   "execution_count": null,
   "metadata": {
    "code_folding": [
     0
    ]
   },
   "outputs": [],
   "source": [
    "# Initial notebook set up\n",
    "\n",
    "%matplotlib inline\n",
    "import matplotlib.pyplot as plt\n",
    "# The first step is to be able to bring things in from different directories\n",
    "import sys \n",
    "import os\n",
    "\n",
    "sys.path.insert(0, os.path.abspath('../lib'))\n",
    "\n",
    "import numpy as np\n",
    "import HARK \n",
    "from time import clock\n",
    "from copy import deepcopy\n",
    "mystr = lambda number : \"{:.4f}\".format(number)\n",
    "from HARK.utilities import plotFuncs\n",
    "\n",
    "# These last two will make our charts look nice\n",
    "plt.style.use('seaborn-darkgrid')\n",
    "palette = plt.get_cmap('Dark2')"
   ]
  },
  {
   "cell_type": "markdown",
   "metadata": {},
   "source": [
    "[PerfectForesightCRRA](http://www.econ2.jhu.edu/people/ccarroll/public/lecturenotes/Consumption/PerfForesightCRRA) derives a number of results as approximations; for instance, the exact formula for the consumption function is derived as $$c_t = \\left(\\frac{R - (R\\beta)^{1/\\rho}}{R}\\right)o_t$$\n",
    "and approximated by $$c_t \\approx (r-\\rho^{-1}(r-\\theta))o_t$$.\n",
    "\n",
    "Your task is to make a series of plots that show how the quality of the approximation deteriorates as you change various model parameters. The notebook aims to make this easier by showing that under the baseline parameter values, the percentage amount of the error is pretty much constant across different values of market resources, so you can assume that is generically true.\n",
    "\n",
    "To get you started, we show how to conduct the exercise under particularly simple parameterization (the Deaton/Friedman model where $R = \\beta$, in which the only relevant parameter is the interest rate).\n",
    "\n",
    "Your specific assignment is:\n",
    "\n",
    "1. Starting with the default parameterization of the model, show how the approximation quality changes with values of other parameters\n",
    "1. Explain, mathematically, why you get the patterns you do for how the solutions deteriorate as you change the parameter values\n",
    "\n",
    "Hints: \n",
    "\n",
    "1. [MathFactsList](http://econ.jhu.edu/people/ccarroll/courses/choice/lecturenotes/MathFactsList/#InfSum) describes the conditions under which the approximations will be good; you want to find conditions under which the approximations get bad\n",
    "2. An interesting question is the extent to which the size of approximation errors is related to the degree of impatience according to alternative metrics"
   ]
  },
  {
   "cell_type": "code",
   "execution_count": null,
   "metadata": {},
   "outputs": [],
   "source": [
    "# Set up a HARK Perfect Foresight Consumer called PFagent\n",
    "\n",
    "from HARK.ConsumptionSaving.ConsIndShockModel import PerfForesightConsumerType # Import the consumer type\n",
    "\n",
    "# Now we need to give our consumer parameter values that allow us to solve the consumer's problem\n",
    "\n",
    "# We begin by importing a module that can be invoked to cough up default parameter values\n",
    "import HARK.ConsumptionSaving.ConsumerParameters as Params\n",
    "\n",
    "# Invoke it to create a dictionary called Paramod (Params that we will modify)\n",
    "Paramod = deepcopy(Params.init_perfect_foresight) # deepcopy prevents later overwriting\n",
    "\n",
    "# Extract the parameters from the dictionary to make them easy to reference\n",
    "CRRA       = Paramod['CRRA']                # Coefficient of relative risk aversion\n",
    "Rfree      = Paramod['Rfree']               # Interest factor on assets\n",
    "DiscFac    = Paramod['DiscFac']             # Intertemporal discount factor\n",
    "PermGroFac = Paramod['PermGroFac']          # Permanent income growth factor\n",
    "LivPrb     = Paramod['LivPrb']     = [1.0]  # Survival probability of 100 percent\n",
    "cycles     = Paramod['cycles']     = 0      # This says that it is an infinite horizon model"
   ]
  },
  {
   "cell_type": "code",
   "execution_count": null,
   "metadata": {},
   "outputs": [],
   "source": [
    "# Now let's pass our dictionary to our consumer class to create an instance \n",
    "PFagent = PerfForesightConsumerType(**Paramod) # Any parameters we did not modify get their default values\n",
    "\n",
    "# Solve the agent's problem\n",
    "PFagent.solve()"
   ]
  },
  {
   "cell_type": "code",
   "execution_count": null,
   "metadata": {},
   "outputs": [],
   "source": [
    "# Plot the consumption function approximation versus the \"true\" consumption function\n",
    "\n",
    "# Set out some range of market resources that we want to plot consumption for\n",
    "mMin = 0 \n",
    "mMax = 10\n",
    "numPoints = 100\n",
    "m_range = np.linspace(mMin, mMax, numPoints) # This creates an array of points in the given range\n",
    "\n",
    "wealthHmn = PFagent.solution[0].hNrm # normalized human wealth is constructed when we .solve()\n",
    "wealthMkt = m_range                  # bank balances plus current income\n",
    "wealthTot = wealthHmn+wealthMkt      # Total wealth is the sum of human and market \n",
    "\n",
    "# Feed our range of market resources into our consumption function in order to get consumption at each point\n",
    "# (Remember, after doing .solve(), the consumption function is stored as PFagent.solution[0].cFunc)\n",
    "cHARK = PFagent.solution[0].cFunc(m_range) # Because the input m_range is an array, the output cHARK is too\n",
    "cMax  = cHARK[-1]*1.2 # The last point will be the largest; add 20 percent for visual appeal\n",
    "\n",
    "# Use matplotlib package (imported in first cell) to plot the consumption function\n",
    "plt.figure(figsize=(9,6)) # set the figure size\n",
    "plt.plot(m_range, cHARK, 'b', label='Consumption Function from HARK') # m on the x axis vs c on the y axis\n",
    "# 'b' is for blue\n",
    "plt.xlabel('Market resources m') # x axis label\n",
    "plt.ylabel('Consumption c') # y axis label\n",
    "plt.ylim(0,cMax)\n",
    "\n",
    "# The plot is named plt and it hangs around like a variable \n",
    "# but is not displayed until you do a plt.show()\n",
    "\n",
    "# Construct the approximate consumption function\n",
    "# Also, recall that in the \"true\" consumption function what matters is total wealth, \n",
    "# not just market resources so we need to add in human wealth\n",
    "\n",
    "# Use the values of R, beta, and rho that we used above to construct rates \n",
    "rfree=Rfree-1\n",
    "discRte=(1/DiscFac)-1 # See handout for why this is approximately the time preference rate\n",
    "cApprox = wealthTot*(rfree - (1/CRRA)*(rfree-discRte)) \n",
    "plt.plot(m_range, cApprox, 'k', label='c function approximated') # Add true consumption function line\n",
    "plt.legend() # show the legend\n",
    "\n",
    "plt.show() # show the plot"
   ]
  },
  {
   "cell_type": "markdown",
   "metadata": {},
   "source": [
    "The size of the error looks pretty stable, which we can show by calculating it in percentage terms"
   ]
  },
  {
   "cell_type": "code",
   "execution_count": null,
   "metadata": {
    "scrolled": true
   },
   "outputs": [],
   "source": [
    "# Plot the deviations\n",
    "approximationError = 100*(cHARK - cApprox)/cHARK\n",
    "plt.figure(figsize=(9,6)) #set the figure size\n",
    "plt.plot(m_range, approximationError, label='cHARK - cApprox')\n",
    "plt.xlabel('Market resources') # x axis label\n",
    "plt.ylabel('Percent deviation of approximation') # y axis label\n",
    "plt.legend()\n",
    "plt.show()"
   ]
  },
  {
   "cell_type": "markdown",
   "metadata": {},
   "source": [
    "Now we want to calculate how the approximation quality depends on the interest factor.  We proceed as follows:\n",
    "1. Create arrays of R values, such that the return patience factor is increasing as you descend through the arrays\n",
    "2. Set up a for loop in which we will:\n",
    "    1. Input the new value of $R$\n",
    "    0. Solve the HARK model for the consumption function\n",
    "    0. Calculate the approximate consumption function\n",
    "    0. Save the average deviation between the two functions\n",
    "3. Then we can plot average deviation against the $R$ factor"
   ]
  },
  {
   "cell_type": "code",
   "execution_count": null,
   "metadata": {},
   "outputs": [],
   "source": [
    "# Create array of Rfree values, and calculate the patience factor\n",
    "howMany = 30\n",
    "Rfree_min = Rfree\n",
    "Rfree_max = Rfree**20\n",
    "Rfree_array = np.linspace(Rfree_min, Rfree_max, howMany)\n",
    "\n",
    "Pat_array  = (Rfree_array*DiscFac)**(1/CRRA)\n",
    "PatR_array = Pat_array/Rfree_array"
   ]
  },
  {
   "cell_type": "code",
   "execution_count": null,
   "metadata": {},
   "outputs": [],
   "source": [
    "# Set the time preference factor to match the interest factor so that $(R \\beta) = 1$\n",
    "\n",
    "Paramod['DiscFac'] = 1/Rfree"
   ]
  },
  {
   "cell_type": "code",
   "execution_count": null,
   "metadata": {},
   "outputs": [],
   "source": [
    "# Plot average deviation from true consumption function\n",
    "PFagent = PerfForesightConsumerType(**Paramod) # construct a consumer with our previous parameters\n",
    "\n",
    "plt.figure(figsize=(9,6)) #set the figure size\n",
    "mean_dev = np.zeros(30)\n",
    "\n",
    "for i in range(len(Rfree_array)):\n",
    "    PFagent.Rfree = Rfree_array[i]\n",
    "    \n",
    "    # Now we just copy the lines of code from above that we want\n",
    "    PFagent.solve()\n",
    "    cHARK     = PFagent.solution[0].cFunc(m_range)\n",
    "    wealthHmn = PFagent.solution[0].hNrm\n",
    "    wealthTot = wealthHmn+m_range\n",
    "    rfree=Rfree-1\n",
    "    discRte=(1/DiscFac)-1 \n",
    "    cApprox   = wealthTot*(rfree - (1/CRRA)*(rfree-discRte)) \n",
    "    deviation = np.mean(np.abs(cApprox/cHARK))\n",
    "    mean_dev[i] = deviation\n",
    "    \n",
    "plt.plot(Rfree_array,mean_dev)\n",
    "plt.xlabel('Return Factor') # x axis label\n",
    "plt.ylabel(' Average deviation along consumption function') # y axis label\n",
    "plt.show()"
   ]
  },
  {
   "cell_type": "markdown",
   "metadata": {},
   "source": [
    "So, when the return factor gets to roughly 1.4, the error in the approximation is almost 80 percent.  It looks like the value for $R$ where the approximation almost exactly matches the truth is about 1.035."
   ]
  },
  {
   "cell_type": "markdown",
   "metadata": {},
   "source": [
    "## Question (repeated from above)\n",
    "\n",
    "1. Starting with the default parameterization of the model, show how the approximation quality changes with values of other parameters\n"
   ]
  },
  {
   "cell_type": "markdown",
   "metadata": {},
   "source": [
    "## SOLUTIONS START HERE "
   ]
  },
  {
   "cell_type": "markdown",
   "metadata": {},
   "source": [
    "### SOLUTIONS - Tim update\n",
    "We proceed as follows:\n",
    "1. Create arrays of Beta values, such that the return patience factor is increasing as you descend through the arrays\n",
    "2. Set up a for loop in which we will:\n",
    "    a. Input the new value of Beta\n",
    "    b. Solve the HARK model for the consumption function\n",
    "    c. Calculate the approximate consumption function\n",
    "    d. Save the average deviation between the two functions\n",
    "3. Then we can plot average deviation against the return patience factor"
   ]
  },
  {
   "cell_type": "code",
   "execution_count": null,
   "metadata": {},
   "outputs": [],
   "source": [
    "# SOLUTIONS\n",
    "# Create array of Betas, and calculate the patience factor\n",
    "\n",
    "beta_array = np.linspace(0.96, 1., 30)\n",
    "\n",
    "ReturnPatFac = ((1.02*beta_array)**(1/1.5))/1.02"
   ]
  },
  {
   "cell_type": "code",
   "execution_count": null,
   "metadata": {},
   "outputs": [],
   "source": [
    "# Plot average deviation from true consumption function - SOLUTIONS\n",
    "PFagent = PerfForesightConsumerType(**Paramod) # initiate a consumer with our previous parameters\n",
    "PFagent.Rfree = 1.02\n",
    "PFagent.CRRA = 1.5\n",
    "m_range = np.linspace(0, 10, 100)\n",
    "plt.figure(figsize=(9,6)) #set the figure size\n",
    "mean_dev = np.zeros(30)\n",
    "\n",
    "for i in range(len(beta_array)):\n",
    "    PFagent.DiscFac = beta_array[i]\n",
    "    \n",
    "    # Now we just copy the lines of code from above that we want\n",
    "    PFagent.solve()\n",
    "    cHARK = PFagent.solution[0].cFunc(m_range)\n",
    "    humanWealth = PFagent.solution[0].hNrm\n",
    "    cTrue = (m_range+humanWealth)*(PFagent.Rfree - (PFagent.Rfree*PFagent.DiscFac)**(1/PFagent.CRRA))/(PFagent.Rfree)\n",
    "    deviation = np.mean(np.abs(cHARK - cTrue))\n",
    "    mean_dev[i] = deviation\n",
    "    \n",
    "plt.plot(ReturnPatFac, mean_dev)    \n",
    "plt.xlabel('Return Patience Factor') # x axis label\n",
    "plt.ylabel(' Average deviation along consumption function') # y axis label\n",
    "plt.show()"
   ]
  },
  {
   "cell_type": "markdown",
   "metadata": {},
   "source": [
    "Looks like the approximation is pretty good until  the return patience factor gets close to 1."
   ]
  },
  {
   "cell_type": "markdown",
   "metadata": {},
   "source": [
    "## Question 2 (Tim should split this off into a separate question)\n",
    "Make some plots that illustrate the points made in sections 4.1 and 4.2 of [PerfForesightCRRA](http://www.econ2.jhu.edu/people/ccarroll/public/lecturenotes/Consumption/PerfForesightCRRA.pdf) about the size of the human wealth effect and the relationship between interest rates and the saving rate."
   ]
  },
  {
   "cell_type": "markdown",
   "metadata": {},
   "source": [
    "Firstly, we want to show that for plausible parameter values, the human wealth effect of a fall in interest rate outweighs the income and substition effects, so consumption rises strongly."
   ]
  },
  {
   "cell_type": "code",
   "execution_count": null,
   "metadata": {},
   "outputs": [],
   "source": [
    "# Set up a HARK Perfect Foresight Consumer called PFwealth\n",
    "\n",
    "from HARK.ConsumptionSaving.ConsIndShockModel import PerfForesightConsumerType # Import the consumer type\n",
    "\n",
    "# Now we need to \"fill\" our consumer with parameters that allow us to solve the consumer's problem\n",
    "\n",
    "# First we need to set out a dictionary\n",
    "CRRA = 2.                           # Coefficient of relative risk aversion\n",
    "Rfree = 1.03                        # Interest factor on assets\n",
    "DiscFac = 0.97                      # Intertemporal discount factor\n",
    "LivPrb = [1.0]                      # Survival probability\n",
    "PermGroFac = [1.01]                 # Permanent income growth factor\n",
    "AgentCount = 1                      # Number of agents of this type (only matters for simulation)\n",
    "T_cycle = 1                         # Number of periods in the cycle for this agent type\n",
    "cycles = 0                          # Agent is infinitely lived\n",
    "\n",
    "# Make a dictionary to specify a perfect foresight consumer type\n",
    "dict_wealth = { 'CRRA': CRRA,\n",
    "                'Rfree': Rfree,\n",
    "                'DiscFac': DiscFac,\n",
    "                'LivPrb': LivPrb,\n",
    "                'PermGroFac': PermGroFac,\n",
    "                'AgentCount': AgentCount,\n",
    "                'T_cycle' : T_cycle,\n",
    "                'cycles' : cycles\n",
    "                }\n",
    "\n",
    "# Now lets pass our dictionary to our consumer class\n",
    "PFwealth = PerfForesightConsumerType(**dict_wealth)"
   ]
  },
  {
   "cell_type": "markdown",
   "metadata": {},
   "source": [
    "## SOLUTIONS START HERE"
   ]
  },
  {
   "cell_type": "code",
   "execution_count": null,
   "metadata": {},
   "outputs": [],
   "source": [
    "# Plot consumption functions at different levels of R -- SOLUTIONS\n",
    "m_range = np.linspace(1., 10, 100)\n",
    "plt.figure(figsize=(18,6))\n",
    "\n",
    "# Find consumption function at low R\n",
    "PFwealth.Rfree = 1.03 # Set low R\n",
    "PFwealth.solve() # solve model\n",
    "plt.subplot(1,2,1)\n",
    "plt.plot(m_range, PFwealth.solution[0].cFunc(m_range), label='Low R Consumption Function') # plot low R cFunc\n",
    "plt.subplot(1,2,2)\n",
    "plt.plot(m_range, (m_range - PFwealth.solution[0].cFunc(m_range))/m_range, label = 'Low R Savings rate') # plot low R savings rate\n",
    "\n",
    "# Find consumption function at high R\n",
    "PFwealth.Rfree = 1.06 # Set high R\n",
    "PFwealth.solve() # solve model\n",
    "plt.subplot(1,2,1)\n",
    "plt.plot(m_range, PFwealth.solution[0].cFunc(m_range), label='High R Consumption Function') # plot high R cFunc\n",
    "plt.xlabel('Market resources')\n",
    "plt.ylabel('Consumption')\n",
    "plt.legend()\n",
    "plt.subplot(1,2,2)\n",
    "plt.plot(m_range, (m_range - PFwealth.solution[0].cFunc(m_range))/m_range, label = 'High R Savings rate') # plot high R savings rate\n",
    "plt.xlabel('Market resources')\n",
    "plt.ylabel('Savings rate')\n",
    "plt.legend()\n",
    "plt.show()\n"
   ]
  },
  {
   "cell_type": "markdown",
   "metadata": {},
   "source": [
    "## SOLUTIONS\n",
    "\n",
    "We can see that consumption is higher for all market resources when R is low, owing to the human wealth effect. And that the saving rate is very sensitive to changes in R (look at when m=1, the savings rate goes from -0.1 to- 0.5 when R moves from 1.06 to 1.03."
   ]
  },
  {
   "cell_type": "code",
   "execution_count": null,
   "metadata": {},
   "outputs": [],
   "source": []
  }
 ],
 "metadata": {
  "kernelspec": {
   "display_name": "Python 3",
   "language": "python",
   "name": "python3"
  },
  "language_info": {
   "codemirror_mode": {
    "name": "ipython",
    "version": 3
   },
   "file_extension": ".py",
   "mimetype": "text/x-python",
   "name": "python",
   "nbconvert_exporter": "python",
   "pygments_lexer": "ipython3",
   "version": "3.6.4"
  }
 },
 "nbformat": 4,
 "nbformat_minor": 2
}
